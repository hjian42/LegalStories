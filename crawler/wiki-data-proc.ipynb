{
 "cells": [
  {
   "cell_type": "code",
   "execution_count": 1,
   "metadata": {},
   "outputs": [],
   "source": [
    "import pandas as pd\n",
    "import os\n",
    "# from wikipedia_crawler import *"
   ]
  },
  {
   "cell_type": "markdown",
   "metadata": {},
   "source": [
    "## Load 311 doctrine list\n",
    "- from this page: https://en.wikipedia.org/wiki/Category:Legal_doctrines_and_principles"
   ]
  },
  {
   "cell_type": "code",
   "execution_count": 2,
   "metadata": {},
   "outputs": [
    {
     "data": {
      "text/html": [
       "<div>\n",
       "<style scoped>\n",
       "    .dataframe tbody tr th:only-of-type {\n",
       "        vertical-align: middle;\n",
       "    }\n",
       "\n",
       "    .dataframe tbody tr th {\n",
       "        vertical-align: top;\n",
       "    }\n",
       "\n",
       "    .dataframe thead th {\n",
       "        text-align: right;\n",
       "    }\n",
       "</style>\n",
       "<table border=\"1\" class=\"dataframe\">\n",
       "  <thead>\n",
       "    <tr style=\"text-align: right;\">\n",
       "      <th></th>\n",
       "      <th>concept</th>\n",
       "      <th>wiki_link</th>\n",
       "    </tr>\n",
       "  </thead>\n",
       "  <tbody>\n",
       "    <tr>\n",
       "      <th>0</th>\n",
       "      <td>Abatement ab initio</td>\n",
       "      <td>https://en.wikipedia.org/wiki/Abatement_ab_initio</td>\n",
       "    </tr>\n",
       "    <tr>\n",
       "      <th>1</th>\n",
       "      <td>Abstention doctrine</td>\n",
       "      <td>https://en.wikipedia.org/wiki/Abstention_doctrine</td>\n",
       "    </tr>\n",
       "    <tr>\n",
       "      <th>2</th>\n",
       "      <td>Abstraction principle (law)</td>\n",
       "      <td>https://en.wikipedia.org/wiki/Abstraction_prin...</td>\n",
       "    </tr>\n",
       "    <tr>\n",
       "      <th>3</th>\n",
       "      <td>Acquiescence</td>\n",
       "      <td>https://en.wikipedia.org/wiki/Acquiescence</td>\n",
       "    </tr>\n",
       "    <tr>\n",
       "      <th>4</th>\n",
       "      <td>Act of state doctrine</td>\n",
       "      <td>https://en.wikipedia.org/wiki/Act_of_state_doc...</td>\n",
       "    </tr>\n",
       "    <tr>\n",
       "      <th>...</th>\n",
       "      <td>...</td>\n",
       "      <td>...</td>\n",
       "    </tr>\n",
       "    <tr>\n",
       "      <th>305</th>\n",
       "      <td>Wagoner Doctrine</td>\n",
       "      <td>https://en.wikipedia.org/wiki/Wagoner_Doctrine</td>\n",
       "    </tr>\n",
       "    <tr>\n",
       "      <th>306</th>\n",
       "      <td>Wahkohtowin</td>\n",
       "      <td>https://en.wikipedia.org/wiki/Wahkohtowin</td>\n",
       "    </tr>\n",
       "    <tr>\n",
       "      <th>307</th>\n",
       "      <td>Warranty tolling</td>\n",
       "      <td>https://en.wikipedia.org/wiki/Warranty_tolling</td>\n",
       "    </tr>\n",
       "    <tr>\n",
       "      <th>308</th>\n",
       "      <td>Workers' compensation employer defense</td>\n",
       "      <td>https://en.wikipedia.org/wiki/Workers'_compens...</td>\n",
       "    </tr>\n",
       "    <tr>\n",
       "      <th>309</th>\n",
       "      <td>Wrongdoing</td>\n",
       "      <td>https://en.wikipedia.org/wiki/Wrongdoing</td>\n",
       "    </tr>\n",
       "  </tbody>\n",
       "</table>\n",
       "<p>310 rows × 2 columns</p>\n",
       "</div>"
      ],
      "text/plain": [
       "                                    concept  \\\n",
       "0                       Abatement ab initio   \n",
       "1                       Abstention doctrine   \n",
       "2               Abstraction principle (law)   \n",
       "3                              Acquiescence   \n",
       "4                     Act of state doctrine   \n",
       "..                                      ...   \n",
       "305                        Wagoner Doctrine   \n",
       "306                             Wahkohtowin   \n",
       "307                        Warranty tolling   \n",
       "308  Workers' compensation employer defense   \n",
       "309                              Wrongdoing   \n",
       "\n",
       "                                             wiki_link  \n",
       "0    https://en.wikipedia.org/wiki/Abatement_ab_initio  \n",
       "1    https://en.wikipedia.org/wiki/Abstention_doctrine  \n",
       "2    https://en.wikipedia.org/wiki/Abstraction_prin...  \n",
       "3           https://en.wikipedia.org/wiki/Acquiescence  \n",
       "4    https://en.wikipedia.org/wiki/Act_of_state_doc...  \n",
       "..                                                 ...  \n",
       "305     https://en.wikipedia.org/wiki/Wagoner_Doctrine  \n",
       "306          https://en.wikipedia.org/wiki/Wahkohtowin  \n",
       "307     https://en.wikipedia.org/wiki/Warranty_tolling  \n",
       "308  https://en.wikipedia.org/wiki/Workers'_compens...  \n",
       "309           https://en.wikipedia.org/wiki/Wrongdoing  \n",
       "\n",
       "[310 rows x 2 columns]"
      ]
     },
     "execution_count": 2,
     "metadata": {},
     "output_type": "execute_result"
    }
   ],
   "source": [
    "df = pd.read_csv(\"./complex-law-doctrine-list.csv\")\n",
    "df['wiki_link'] = df.concept.apply(lambda x: \"https://en.wikipedia.org/wiki/\" + \"_\".join(x.split()))\n",
    "df"
   ]
  },
  {
   "cell_type": "markdown",
   "metadata": {},
   "source": [
    "## Crawl wikipedia pages\n",
    "- after filtering, 295 doctrines remain"
   ]
  },
  {
   "cell_type": "code",
   "execution_count": 3,
   "metadata": {},
   "outputs": [],
   "source": [
    "import sys\n",
    "import time\n",
    "import argparse\n",
    "import re\n",
    "from urllib.parse import urlparse\n",
    "\n",
    "import requests\n",
    "from bs4 import BeautifulSoup\n",
    "\n",
    "def scrap_texts(base_url, article, output_file, html_file):\n",
    "    \"\"\"Represents one request per article\"\"\"\n",
    "\n",
    "    full_url = base_url + article\n",
    "    try:\n",
    "        r = requests.get(full_url, headers={'User-Agent': USER_AGENT})\n",
    "    except requests.exceptions.ConnectionError:\n",
    "        print(\"Check your Internet connection\")\n",
    "        input(\"Press [ENTER] to continue to the next request.\")\n",
    "        return\n",
    "    if r.status_code not in (200, 404):\n",
    "        print(\"Failed to request page (code {})\".format(r.status_code))\n",
    "        input(\"Press [ENTER] to continue to the next request.\")\n",
    "        return\n",
    "    \n",
    "    soup = BeautifulSoup(r.text, 'html.parser')\n",
    "    content = soup.find('div', {'id':'mw-content-text'})\n",
    "\n",
    "    with open(html_file, 'w', encoding='utf-8') as file:\n",
    "        file.write(str(content))\n",
    "\n",
    "    # add new related articles to queue\n",
    "    # check if are actual articles URL\n",
    "    for a in content.find_all('a'):\n",
    "        href = a.get('href')\n",
    "        if not href:\n",
    "            continue\n",
    "        if href[0:6] != '/wiki/':  # allow only article pages\n",
    "            continue\n",
    "        elif ':' in href:  # ignore special articles e.g. 'Special:'\n",
    "            continue\n",
    "        elif href[-4:] in \".png .jpg .jpeg .svg\":  # ignore image files inside articles\n",
    "            continue\n",
    "        elif base_url + href in visited_urls:  # already visited\n",
    "            continue\n",
    "        if href in pending_urls:  # already added to queue\n",
    "            continue\n",
    "        pending_urls.append(href)\n",
    "\n",
    "    # skip if already added text from this article, as continuing session\n",
    "    if full_url in visited_urls:\n",
    "        return\n",
    "    visited_urls.add(full_url)\n",
    "\n",
    "    parenthesis_regex = re.compile('\\(.+?\\)')  # to remove parenthesis content\n",
    "    citations_regex = re.compile('\\[.+?\\]')  # to remove citations, e.g. [1]\n",
    "\n",
    "    # get plain text from each <p>\n",
    "    p_list = content.find_all('p')\n",
    "    with open(output_file, 'a', encoding='utf-8') as fout:\n",
    "        for p in p_list:\n",
    "            text = p.get_text().strip()\n",
    "            text = parenthesis_regex.sub('', text)\n",
    "            text = citations_regex.sub('', text)\n",
    "            if text:\n",
    "                fout.write(text + '\\n\\n')  # extra line between paragraphs\n",
    "\n",
    "response = requests.get('https://en.wikipedia.org/w/api.php', \n",
    "                        params={'action': 'query',\n",
    "                                'format': 'json',\n",
    "                                'titles': 'Abstention_doctrine',\n",
    "                                'prop': 'extracts',\n",
    "                                'exintro': True,\n",
    "                                'explaintext': True,})\n",
    "soup = BeautifulSoup(response.text, 'html.parser')"
   ]
  },
  {
   "cell_type": "code",
   "execution_count": 4,
   "metadata": {},
   "outputs": [
    {
     "data": {
      "text/plain": [
       "\"An abstention doctrine is any of several doctrines that a United States court may (or in some cases must) apply to refuse to hear a case if hearing the case would potentially intrude upon the powers of another court. Such doctrines are usually invoked where lawsuits involving the same issues are brought in two different court systems at the same time (such as federal and state courts).\\nThe United States has a federal court system with limitations on the cases that it can hear, while each state has its own individual court system. In some instances, the jurisdiction of these courts overlap, so a lawsuit between two parties may be brought in either or both courts. The latter circumstance can lead to confusion, waste resources, as well as cause the appearance that one court is disrespecting the other. Both federal and state courts have developed rules determining when one court will defer to another's jurisdiction over a particular case.\""
      ]
     },
     "execution_count": 4,
     "metadata": {},
     "output_type": "execute_result"
    }
   ],
   "source": [
    "# page_id = list(data[\"query\"][\"pages\"].keys())[0]\n",
    "# data[\"query\"][\"pages\"][page_id][\"extract\"]\n",
    "data = response.json()\n",
    "page_id = list(data[\"query\"][\"pages\"].keys())[0]\n",
    "data[\"query\"][\"pages\"][page_id][\"extract\"]"
   ]
  },
  {
   "cell_type": "code",
   "execution_count": 5,
   "metadata": {},
   "outputs": [],
   "source": [
    "# DEFAULT_OUTPUT = 'output.txt'\n",
    "DEFAULT_INTERVAL = 1.0  # interval between requests (seconds)\n",
    "DEFAULT_ARTICLES_LIMIT = 400  # total number articles to be extrated\n",
    "USER_AGENT = 'Mozilla/5.0 (Windows NT 10.0; WOW64) AppleWebKit/537.36 (KHTML, like Gecko) Chrome/52.0.2743.116 Safari/537.36'\n",
    "\n",
    "visited_urls = set()  # all urls already visited, to not visit twice\n",
    "pending_urls = []  # queue\n",
    "\n",
    "for row in df.iloc[:].iterrows():\n",
    "    row = row[1]\n",
    "    concept, initial_url = row.concept, row.wiki_link\n",
    "    # interval = DEFAULT_INTERVAL\n",
    "    # articles_limit = DEFAULT_ARTICLES_LIMIT\n",
    "\n",
    "    # minutes_estimate = interval * articles_limit / 60\n",
    "    # print(\"This session will take {:.1f} minute(s) to download {} article(s):\".format(minutes_estimate, articles_limit))\n",
    "    # print(\"\\t(Press CTRL+C to pause)\\n\")\n",
    "    concept_string = \"_\".join(concept.split())\n",
    "    output_file = \"./crawled_data/intro_raw/{}.txt\".format(concept_string)\n",
    "    # html_file = \"./crawled_data/html/{}.html\".format(concept_string)\n",
    "    \n",
    "    # base_url = '{uri.scheme}://{uri.netloc}'.format(uri=urlparse(initial_url))\n",
    "    # initial_url = initial_url[len(base_url):]\n",
    "    # pending_urls.append(initial_url)\n",
    "\n",
    "    # next_url = pending_urls.pop(0)\n",
    "    # scrap_texts(base_url, next_url, output_file, html_file)\n",
    "    response = requests.get('https://en.wikipedia.org/w/api.php', \n",
    "                        params={'action': 'query',\n",
    "                                'format': 'json',\n",
    "                                'titles': concept_string,\n",
    "                                'prop': 'extracts',\n",
    "                                'exintro': True,\n",
    "                                'explaintext': True,})\n",
    "    data = response.json()\n",
    "    page_id = list(data[\"query\"][\"pages\"].keys())[0]\n",
    "    if (\"extract\" in data[\"query\"][\"pages\"][page_id]):\n",
    "        intro_text = data[\"query\"][\"pages\"][page_id][\"extract\"]\n",
    "        if len(intro_text.strip()) > 10: \n",
    "            with open(output_file, \"w\") as out:\n",
    "                out.write(intro_text)\n"
   ]
  },
  {
   "attachments": {},
   "cell_type": "markdown",
   "metadata": {},
   "source": [
    "## Filter the raw texts --> 295 doctrines"
   ]
  },
  {
   "cell_type": "code",
   "execution_count": 5,
   "metadata": {},
   "outputs": [
    {
     "data": {
      "text/plain": [
       "(295, 3)"
      ]
     },
     "execution_count": 5,
     "metadata": {},
     "output_type": "execute_result"
    }
   ],
   "source": [
    "rows = []\n",
    "for row in df.iterrows():\n",
    "    row = row[1]\n",
    "    concept, initial_url = row.concept, row.wiki_link\n",
    "    concept_string = \"_\".join(concept.split())\n",
    "    filename = \"./crawled_data/intro_raw/{}.txt\".format(concept_string)\n",
    "    if os.path.isfile(filename):\n",
    "        with open(filename) as f:\n",
    "            raw_text = f.read()\n",
    "            num_words = len(raw_text.split())\n",
    "            # if 150 < num_words < 500:\n",
    "            rows.append([concept_string, raw_text, num_words])\n",
    "df_rows = pd.DataFrame(rows, columns=['concept', 'intro_text', \"word_count\"])    \n",
    "df_rows.to_csv(\"../data/295-doctrines/legal_doctrines_295.tsv\", sep=\"\\t\", index=False)\n",
    "df_rows.shape\n"
   ]
  },
  {
   "cell_type": "markdown",
   "metadata": {},
   "source": [
    "## Sample 102 doctrines out of 295 doctrines\n",
    "- we pick doctrines whose definition length is between 100 and 200 words"
   ]
  },
  {
   "cell_type": "code",
   "execution_count": 7,
   "metadata": {},
   "outputs": [
    {
     "name": "stdout",
     "output_type": "stream",
     "text": [
      "(102, 3)\n"
     ]
    }
   ],
   "source": [
    "df_medium_length = df_rows[df_rows.word_count <= 200]\n",
    "df_medium_length = df_medium_length[df_medium_length.word_count >= 100]\n",
    "print(df_medium_length.shape)\n",
    "\n",
    "df_medium_length.to_csv(\"../data/102-doctrines/legal_doctrines_102.tsv\", sep=\"\\t\", index=False)"
   ]
  },
  {
   "cell_type": "code",
   "execution_count": 10,
   "metadata": {},
   "outputs": [
    {
     "data": {
      "text/plain": [
       "(array([0.02042484, 0.01429739, 0.01429739, 0.01021242, 0.01021242,\n",
       "        0.0122549 , 0.01633987, 0.0122549 , 0.01021242, 0.01021242,\n",
       "        0.00816993, 0.01838235, 0.00816993, 0.00204248, 0.00408497,\n",
       "        0.00612745, 0.01021242, 0.        , 0.00408497, 0.01633987]),\n",
       " array([100. , 104.8, 109.6, 114.4, 119.2, 124. , 128.8, 133.6, 138.4,\n",
       "        143.2, 148. , 152.8, 157.6, 162.4, 167.2, 172. , 176.8, 181.6,\n",
       "        186.4, 191.2, 196. ]),\n",
       " <BarContainer object of 20 artists>)"
      ]
     },
     "execution_count": 10,
     "metadata": {},
     "output_type": "execute_result"
    },
    {
     "data": {
      "image/png": "[encoded data removed]",
      "text/plain": [
       "<Figure size 640x480 with 1 Axes>"
      ]
     },
     "metadata": {},
     "output_type": "display_data"
    }
   ],
   "source": [
    "import matplotlib.pyplot as plt\n",
    "plt.hist(df_medium_length.word_count, density=True, bins=20)  \n"
   ]
  },
  {
   "cell_type": "code",
   "execution_count": 13,
   "metadata": {},
   "outputs": [
    {
     "name": "stdout",
     "output_type": "stream",
     "text": [
      "102 doctrine definition's median length -> 135.5\n",
      "102 doctrine definition's mean length -> 140.01960784313727\n"
     ]
    }
   ],
   "source": [
    "print(\"102 doctrine definition's median length ->\", df_medium_length.word_count.median())\n",
    "print(\"102 doctrine definition's mean length ->\", df_medium_length.word_count.mean())"
   ]
  },
  {
   "cell_type": "markdown",
   "metadata": {},
   "source": [
    "## Sample 20 doctrines from 102 for detailed evaluation"
   ]
  },
  {
   "cell_type": "code",
   "execution_count": 13,
   "metadata": {},
   "outputs": [
    {
     "data": {
      "text/html": [
       "<div>\n",
       "<style scoped>\n",
       "    .dataframe tbody tr th:only-of-type {\n",
       "        vertical-align: middle;\n",
       "    }\n",
       "\n",
       "    .dataframe tbody tr th {\n",
       "        vertical-align: top;\n",
       "    }\n",
       "\n",
       "    .dataframe thead th {\n",
       "        text-align: right;\n",
       "    }\n",
       "</style>\n",
       "<table border=\"1\" class=\"dataframe\">\n",
       "  <thead>\n",
       "    <tr style=\"text-align: right;\">\n",
       "      <th></th>\n",
       "      <th>concept</th>\n",
       "      <th>intro_text</th>\n",
       "      <th>word_count</th>\n",
       "    </tr>\n",
       "  </thead>\n",
       "  <tbody>\n",
       "    <tr>\n",
       "      <th>0</th>\n",
       "      <td>Abstention_doctrine</td>\n",
       "      <td>An abstention doctrine is any of several doctr...</td>\n",
       "      <td>159</td>\n",
       "    </tr>\n",
       "    <tr>\n",
       "      <th>11</th>\n",
       "      <td>Constitutional_convention_(political_custom)</td>\n",
       "      <td>A constitutional convention is an informal and...</td>\n",
       "      <td>179</td>\n",
       "    </tr>\n",
       "    <tr>\n",
       "      <th>94</th>\n",
       "      <td>Unaccompanied_minor</td>\n",
       "      <td>An unaccompanied minor (sometimes \"unaccompani...</td>\n",
       "      <td>105</td>\n",
       "    </tr>\n",
       "    <tr>\n",
       "      <th>90</th>\n",
       "      <td>Substantial_certainty_doctrine</td>\n",
       "      <td>In law, the substantial certainty doctrine is ...</td>\n",
       "      <td>103</td>\n",
       "    </tr>\n",
       "    <tr>\n",
       "      <th>50</th>\n",
       "      <td>Learned_intermediary</td>\n",
       "      <td>Learned intermediary is a defense doctrine use...</td>\n",
       "      <td>105</td>\n",
       "    </tr>\n",
       "    <tr>\n",
       "      <th>18</th>\n",
       "      <td>Doctrine_of_foreign_equivalents</td>\n",
       "      <td>This article discusses the trademark doctrine ...</td>\n",
       "      <td>129</td>\n",
       "    </tr>\n",
       "    <tr>\n",
       "      <th>78</th>\n",
       "      <td>Prosecutorial_discretion</td>\n",
       "      <td>In common law, the principle of prosecutorial ...</td>\n",
       "      <td>104</td>\n",
       "    </tr>\n",
       "    <tr>\n",
       "      <th>87</th>\n",
       "      <td>Safe_harbor_(law)</td>\n",
       "      <td>A safe harbor is a provision of a statute or a...</td>\n",
       "      <td>153</td>\n",
       "    </tr>\n",
       "    <tr>\n",
       "      <th>35</th>\n",
       "      <td>FTC_v._Dean_Foods_Co.</td>\n",
       "      <td>FTC v. Dean Foods Co., 384 U.S. 597 (1966), is...</td>\n",
       "      <td>119</td>\n",
       "    </tr>\n",
       "    <tr>\n",
       "      <th>100</th>\n",
       "      <td>Volenti_non_fit_injuria</td>\n",
       "      <td>Volenti non fit iniuria (or injuria) (Latin: \"...</td>\n",
       "      <td>196</td>\n",
       "    </tr>\n",
       "    <tr>\n",
       "      <th>70</th>\n",
       "      <td>Plain_meaning_rule</td>\n",
       "      <td>The plain meaning rule, also known as the lite...</td>\n",
       "      <td>153</td>\n",
       "    </tr>\n",
       "    <tr>\n",
       "      <th>79</th>\n",
       "      <td>Purcell_principle</td>\n",
       "      <td>In United States law, the Purcell principle is...</td>\n",
       "      <td>100</td>\n",
       "    </tr>\n",
       "    <tr>\n",
       "      <th>73</th>\n",
       "      <td>Presumption_(Catholic_canon_law)</td>\n",
       "      <td>Presumption in the canon law of the Catholic C...</td>\n",
       "      <td>158</td>\n",
       "    </tr>\n",
       "    <tr>\n",
       "      <th>101</th>\n",
       "      <td>Wrongdoing</td>\n",
       "      <td>A wrong (from Old English wrang – 'crooked') i...</td>\n",
       "      <td>117</td>\n",
       "    </tr>\n",
       "    <tr>\n",
       "      <th>83</th>\n",
       "      <td>Remoteness_in_English_law</td>\n",
       "      <td>In English law, remoteness between a cause of ...</td>\n",
       "      <td>121</td>\n",
       "    </tr>\n",
       "    <tr>\n",
       "      <th>66</th>\n",
       "      <td>Pacta_sunt_servanda</td>\n",
       "      <td>Pacta sunt servanda, Latin for \"agreements mus...</td>\n",
       "      <td>115</td>\n",
       "    </tr>\n",
       "    <tr>\n",
       "      <th>55</th>\n",
       "      <td>Maxwellisation</td>\n",
       "      <td>Maxwellisation is the legal practice in Englis...</td>\n",
       "      <td>127</td>\n",
       "    </tr>\n",
       "    <tr>\n",
       "      <th>7</th>\n",
       "      <td>Brady_disclosure</td>\n",
       "      <td>In the legal system of the United States, a Br...</td>\n",
       "      <td>146</td>\n",
       "    </tr>\n",
       "    <tr>\n",
       "      <th>96</th>\n",
       "      <td>Undue_hardship</td>\n",
       "      <td>An undue hardship is an American legal term re...</td>\n",
       "      <td>122</td>\n",
       "    </tr>\n",
       "    <tr>\n",
       "      <th>9</th>\n",
       "      <td>Commanding_precedent</td>\n",
       "      <td>In law, a commanding precedent is a precedent ...</td>\n",
       "      <td>136</td>\n",
       "    </tr>\n",
       "  </tbody>\n",
       "</table>\n",
       "</div>"
      ],
      "text/plain": [
       "                                          concept  \\\n",
       "0                             Abstention_doctrine   \n",
       "11   Constitutional_convention_(political_custom)   \n",
       "94                            Unaccompanied_minor   \n",
       "90                 Substantial_certainty_doctrine   \n",
       "50                           Learned_intermediary   \n",
       "18                Doctrine_of_foreign_equivalents   \n",
       "78                       Prosecutorial_discretion   \n",
       "87                              Safe_harbor_(law)   \n",
       "35                          FTC_v._Dean_Foods_Co.   \n",
       "100                       Volenti_non_fit_injuria   \n",
       "70                             Plain_meaning_rule   \n",
       "79                              Purcell_principle   \n",
       "73               Presumption_(Catholic_canon_law)   \n",
       "101                                    Wrongdoing   \n",
       "83                      Remoteness_in_English_law   \n",
       "66                            Pacta_sunt_servanda   \n",
       "55                                 Maxwellisation   \n",
       "7                                Brady_disclosure   \n",
       "96                                 Undue_hardship   \n",
       "9                            Commanding_precedent   \n",
       "\n",
       "                                            intro_text  word_count  \n",
       "0    An abstention doctrine is any of several doctr...         159  \n",
       "11   A constitutional convention is an informal and...         179  \n",
       "94   An unaccompanied minor (sometimes \"unaccompani...         105  \n",
       "90   In law, the substantial certainty doctrine is ...         103  \n",
       "50   Learned intermediary is a defense doctrine use...         105  \n",
       "18   This article discusses the trademark doctrine ...         129  \n",
       "78   In common law, the principle of prosecutorial ...         104  \n",
       "87   A safe harbor is a provision of a statute or a...         153  \n",
       "35   FTC v. Dean Foods Co., 384 U.S. 597 (1966), is...         119  \n",
       "100  Volenti non fit iniuria (or injuria) (Latin: \"...         196  \n",
       "70   The plain meaning rule, also known as the lite...         153  \n",
       "79   In United States law, the Purcell principle is...         100  \n",
       "73   Presumption in the canon law of the Catholic C...         158  \n",
       "101  A wrong (from Old English wrang – 'crooked') i...         117  \n",
       "83   In English law, remoteness between a cause of ...         121  \n",
       "66   Pacta sunt servanda, Latin for \"agreements mus...         115  \n",
       "55   Maxwellisation is the legal practice in Englis...         127  \n",
       "7    In the legal system of the United States, a Br...         146  \n",
       "96   An undue hardship is an American legal term re...         122  \n",
       "9    In law, a commanding precedent is a precedent ...         136  "
      ]
     },
     "execution_count": 13,
     "metadata": {},
     "output_type": "execute_result"
    }
   ],
   "source": [
    "df_sampled_20 = df_medium_length.sample(frac=0.2)\n",
    "df_sampled_20"
   ]
  },
  {
   "cell_type": "code",
   "execution_count": 14,
   "metadata": {},
   "outputs": [],
   "source": [
    "df_sampled_20.to_csv(\"../data/20-doctrines/legal_doctrines_20.tsv\", sep=\"\\t\")"
   ]
  }
 ],
 "metadata": {
  "kernelspec": {
   "display_name": "audiencenlp",
   "language": "python",
   "name": "python3"
  },
  "language_info": {
   "codemirror_mode": {
    "name": "ipython",
    "version": 3
   },
   "file_extension": ".py",
   "mimetype": "text/x-python",
   "name": "python",
   "nbconvert_exporter": "python",
   "pygments_lexer": "ipython3",
   "version": "3.9.undefined"
  },
  "orig_nbformat": 4
 },
 "nbformat": 4,
 "nbformat_minor": 2
}
