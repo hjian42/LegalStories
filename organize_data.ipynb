{
 "cells": [
  {
   "cell_type": "code",
   "execution_count": 63,
   "metadata": {},
   "outputs": [
    {
     "name": "stdout",
     "output_type": "stream",
     "text": [
      "(294, 3)\n"
     ]
    },
    {
     "data": {
      "text/html": [
       "<div>\n",
       "<style scoped>\n",
       "    .dataframe tbody tr th:only-of-type {\n",
       "        vertical-align: middle;\n",
       "    }\n",
       "\n",
       "    .dataframe tbody tr th {\n",
       "        vertical-align: top;\n",
       "    }\n",
       "\n",
       "    .dataframe thead th {\n",
       "        text-align: right;\n",
       "    }\n",
       "</style>\n",
       "<table border=\"1\" class=\"dataframe\">\n",
       "  <thead>\n",
       "    <tr style=\"text-align: right;\">\n",
       "      <th></th>\n",
       "      <th>concept</th>\n",
       "      <th>intro_text</th>\n",
       "      <th>word_count</th>\n",
       "    </tr>\n",
       "  </thead>\n",
       "  <tbody>\n",
       "    <tr>\n",
       "      <th>0</th>\n",
       "      <td>Abatement_ab_initio</td>\n",
       "      <td>Abatement ab initio (Latin for \"from the begin...</td>\n",
       "      <td>85</td>\n",
       "    </tr>\n",
       "    <tr>\n",
       "      <th>1</th>\n",
       "      <td>Abstention_doctrine</td>\n",
       "      <td>An abstention doctrine is any of several doctr...</td>\n",
       "      <td>159</td>\n",
       "    </tr>\n",
       "    <tr>\n",
       "      <th>2</th>\n",
       "      <td>Abstraction_principle_(law)</td>\n",
       "      <td>The abstract system of title transfer (German:...</td>\n",
       "      <td>96</td>\n",
       "    </tr>\n",
       "  </tbody>\n",
       "</table>\n",
       "</div>"
      ],
      "text/plain": [
       "                       concept  \\\n",
       "0          Abatement_ab_initio   \n",
       "1          Abstention_doctrine   \n",
       "2  Abstraction_principle_(law)   \n",
       "\n",
       "                                          intro_text  word_count  \n",
       "0  Abatement ab initio (Latin for \"from the begin...          85  \n",
       "1  An abstention doctrine is any of several doctr...         159  \n",
       "2  The abstract system of title transfer (German:...          96  "
      ]
     },
     "execution_count": 63,
     "metadata": {},
     "output_type": "execute_result"
    }
   ],
   "source": [
    "from tqdm import tqdm\n",
    "import json\n",
    "import os\n",
    "import pandas as pd\n",
    "\n",
    "df_sample = pd.read_csv(\"./data/294-doctrines/legal_doctrines_294.tsv\", delimiter=\"\\t\")\n",
    "\n",
    "print(df_sample.shape)\n",
    "df_sample.head(3)\n"
   ]
  },
  {
   "attachments": {},
   "cell_type": "markdown",
   "metadata": {},
   "source": [
    "## 1. organize concept, definitions, and stories in `tsv` files"
   ]
  },
  {
   "cell_type": "code",
   "execution_count": 121,
   "metadata": {},
   "outputs": [
    {
     "name": "stderr",
     "output_type": "stream",
     "text": [
      "294it [00:00, 6772.66it/s]\n",
      "294it [00:00, 7724.41it/s]\n",
      "294it [00:00, 8256.61it/s]\n"
     ]
    }
   ],
   "source": [
    "def organize_doctrine_stories(model_name):\n",
    "    lines = []\n",
    "    for concept, text in tqdm(zip(df_sample.concept.to_list(), df_sample.intro_text.to_list())):\n",
    "        lines.append([concept, text])\n",
    "        filename = os.path.join(\"./outputs/294-doctrines-{}/story/\".format(model_name), \"{}.json\".format(concept))\n",
    "        with open(filename) as f:\n",
    "            jobj = json.load(f)\n",
    "            lines[-1].append(jobj['annotation'].replace(\"Concept Simplified:\", \"\").strip(\"\\n\"))\n",
    "\n",
    "    df_annotations = pd.DataFrame(lines, columns=['concept', 'intro_text', 'story'])\n",
    "    df_annotations.story = df_annotations.story.str.strip()\n",
    "    return df_annotations\n",
    "\n",
    "\n",
    "df_llama2_stories = organize_doctrine_stories(\"llama2\")\n",
    "df_llama2_stories.to_csv('./outputs/294-doctrines-llama2/294_doctrine_stories.tsv', sep=\"\\t\")\n",
    "df_gpt35_stories = organize_doctrine_stories(\"gpt3.5\")\n",
    "df_gpt35_stories.to_csv('./outputs/294-doctrines-gpt3.5/294_doctrine_stories.tsv', sep=\"\\t\")\n",
    "df_gpt4_stories = organize_doctrine_stories(\"gpt4\")\n",
    "df_gpt4_stories.to_csv('./outputs/294-doctrines-gpt4/294_doctrine_stories.tsv', sep=\"\\t\")\n"
   ]
  },
  {
   "cell_type": "code",
   "execution_count": 122,
   "metadata": {},
   "outputs": [],
   "source": [
    "assert sum(df_llama2_stories.story == df_gpt35_stories.story) == 0, \"same story detected\"\n",
    "assert sum(df_llama2_stories.story == df_gpt4_stories.story) == 0, \"same story detected\"\n",
    "assert sum(df_gpt35_stories.story == df_gpt4_stories.story) == 0, \"same story detected\"\n",
    "\n",
    "assert sum(df_llama2_stories.intro_text == df_gpt35_stories.intro_text) == 294, \"not all definitions matched\"\n",
    "assert sum(df_llama2_stories.intro_text == df_gpt4_stories.intro_text) == 294, \"not all definitions matched\"\n",
    "assert sum(df_gpt35_stories.intro_text == df_gpt4_stories.intro_text) == 294, \"not all definitions matched\""
   ]
  },
  {
   "cell_type": "markdown",
   "metadata": {},
   "source": [
    "# 2. organize stories + questions in `tsv` format"
   ]
  },
  {
   "cell_type": "code",
   "execution_count": 123,
   "metadata": {},
   "outputs": [
    {
     "name": "stdout",
     "output_type": "stream",
     "text": [
      "llama2:\n"
     ]
    },
    {
     "name": "stderr",
     "output_type": "stream",
     "text": [
      "100%|██████████| 294/294 [00:00<00:00, 18908.04it/s]\n",
      "100%|██████████| 294/294 [00:00<00:00, 21238.45it/s]\n",
      "100%|██████████| 294/294 [00:00<00:00, 23488.10it/s]\n"
     ]
    },
    {
     "name": "stdout",
     "output_type": "stream",
     "text": [
      "gpt3.5:\n"
     ]
    },
    {
     "name": "stderr",
     "output_type": "stream",
     "text": [
      "100%|██████████| 294/294 [00:00<00:00, 26844.42it/s]\n",
      "100%|██████████| 294/294 [00:00<00:00, 23801.83it/s]\n",
      "100%|██████████| 294/294 [00:00<00:00, 18469.91it/s]\n"
     ]
    },
    {
     "name": "stdout",
     "output_type": "stream",
     "text": [
      "gpt4:\n"
     ]
    },
    {
     "name": "stderr",
     "output_type": "stream",
     "text": [
      "100%|██████████| 294/294 [00:00<00:00, 26031.78it/s]\n",
      "100%|██████████| 294/294 [00:00<00:00, 24416.87it/s]\n",
      "100%|██████████| 294/294 [00:00<00:00, 26920.61it/s]\n"
     ]
    }
   ],
   "source": [
    "def add_questions(df_story, folder_path):\n",
    "\n",
    "    for question_type in ['concept_question', 'ending_question', 'limitation_question']:\n",
    "        lines = []\n",
    "        for concept in tqdm(df_story.concept.to_list()):\n",
    "            filename = os.path.join(\"{}/{}/\".format(folder_path, question_type), \"{}.json\".format(concept))\n",
    "            with open(filename) as f:\n",
    "                jobj = json.load(f)\n",
    "                lines.append(jobj['annotation'])\n",
    "\n",
    "        df_story[question_type] = lines\n",
    "    return df_story\n",
    "\n",
    "print(\"llama2:\")\n",
    "df_llama2_stories_questions = add_questions(df_llama2_stories, \"./outputs/294-doctrines-llama2\")\n",
    "df_llama2_stories_questions.to_csv(\"./data/294-doctrines/llama2_story_question_294.tsv\", sep=\"\\t\")\n",
    "\n",
    "print(\"gpt3.5:\")\n",
    "df_gpt35_stories_questions = add_questions(df_gpt35_stories, \"./outputs/294-doctrines-gpt3.5\")\n",
    "df_gpt35_stories_questions.to_csv(\"./data/294-doctrines/gpt3.5_story_question_294.tsv\", sep=\"\\t\")\n",
    "\n",
    "print(\"gpt4:\")\n",
    "df_gpt4_stories_questions = add_questions(df_gpt4_stories, \"./outputs/294-doctrines-gpt4\")\n",
    "df_gpt4_stories_questions.to_csv(\"./data/294-doctrines/gpt4_story_question_294.tsv\", sep=\"\\t\")"
   ]
  },
  {
   "cell_type": "markdown",
   "metadata": {},
   "source": [
    "## 3. split 101 and 20 concepts from 294 for evaluation\n",
    "- prepare stories which are conditioned to generate questions"
   ]
  },
  {
   "cell_type": "code",
   "execution_count": 124,
   "metadata": {},
   "outputs": [
    {
     "name": "stdout",
     "output_type": "stream",
     "text": [
      "(20, 2)\n",
      "(101, 2)\n"
     ]
    }
   ],
   "source": [
    "# load 20 and 101 concepts\n",
    "\n",
    "df_20 = pd.read_csv(\"./data/20-doctrines/legal_doctrines_20.tsv\", sep=\"\\t\")[['concept', 'intro_text']]\n",
    "print(df_20.shape)\n",
    "df_101 = pd.read_csv(\"./data/101-doctrines/legal_doctrines_101.tsv\", sep=\"\\t\")[['concept', 'intro_text']]\n",
    "print(df_101.shape)"
   ]
  },
  {
   "cell_type": "code",
   "execution_count": 126,
   "metadata": {},
   "outputs": [
    {
     "name": "stdout",
     "output_type": "stream",
     "text": [
      "Model Name: llama2\n",
      "(20, 6)\n",
      "(101, 6)\n"
     ]
    }
   ],
   "source": [
    "# LLaMA 2\n",
    "model_name = \"llama2\"\n",
    "print(\"Model Name:\", model_name)\n",
    "\n",
    "df_tmp = df_llama2_stories_questions.merge(df_20, how=\"inner\", on=[\"concept\", 'intro_text'])\n",
    "print(df_tmp.shape)\n",
    "df_tmp.to_csv(\"./data/20-doctrines/{}_story_question_20.tsv\".format(model_name), sep=\"\\t\")\n",
    "\n",
    "df_tmp = df_llama2_stories_questions.merge(df_101, how=\"inner\", on=[\"concept\", 'intro_text'])\n",
    "print(df_tmp.shape)\n",
    "df_tmp.to_csv(\"./data/101-doctrines/{}_story_question_101.tsv\".format(model_name), sep=\"\\t\")\n"
   ]
  },
  {
   "cell_type": "code",
   "execution_count": 127,
   "metadata": {},
   "outputs": [
    {
     "name": "stdout",
     "output_type": "stream",
     "text": [
      "Model Name: gpt3.5\n",
      "(20, 6)\n",
      "(101, 6)\n"
     ]
    }
   ],
   "source": [
    "# GPT 3.5\n",
    "model_name = \"gpt3.5\"\n",
    "print(\"Model Name:\", model_name)\n",
    "\n",
    "df_tmp = df_gpt35_stories_questions.merge(df_20, how=\"inner\", on=[\"concept\", 'intro_text'])\n",
    "print(df_tmp.shape)\n",
    "df_tmp.to_csv(\"./data/20-doctrines/{}_story_question_20.tsv\".format(model_name), sep=\"\\t\")\n",
    "\n",
    "df_tmp = df_gpt35_stories_questions.merge(df_101, how=\"inner\", on=[\"concept\", 'intro_text'])\n",
    "print(df_tmp.shape)\n",
    "df_tmp.to_csv(\"./data/101-doctrines/{}_story_question_101.tsv\".format(model_name), sep=\"\\t\")\n"
   ]
  },
  {
   "cell_type": "code",
   "execution_count": 128,
   "metadata": {},
   "outputs": [
    {
     "name": "stdout",
     "output_type": "stream",
     "text": [
      "Model Name: gpt4\n",
      "(20, 6)\n",
      "(101, 6)\n"
     ]
    }
   ],
   "source": [
    "# GPT-4\n",
    "model_name = \"gpt4\"\n",
    "print(\"Model Name:\", model_name)\n",
    "\n",
    "df_tmp = df_gpt4_stories_questions.merge(df_20, how=\"inner\", on=[\"concept\", 'intro_text'])\n",
    "print(df_tmp.shape)\n",
    "df_tmp.to_csv(\"./data/20-doctrines/{}_story_question_20.tsv\".format(model_name), sep=\"\\t\")\n",
    "\n",
    "df_tmp = df_gpt4_stories_questions.merge(df_101, how=\"inner\", on=[\"concept\", 'intro_text'])\n",
    "print(df_tmp.shape)\n",
    "df_tmp.to_csv(\"./data/101-doctrines/{}_story_question_101.tsv\".format(model_name), sep=\"\\t\")\n"
   ]
  }
 ],
 "metadata": {
  "kernelspec": {
   "display_name": "lm",
   "language": "python",
   "name": "python3"
  },
  "language_info": {
   "codemirror_mode": {
    "name": "ipython",
    "version": 3
   },
   "file_extension": ".py",
   "mimetype": "text/x-python",
   "name": "python",
   "nbconvert_exporter": "python",
   "pygments_lexer": "ipython3",
   "version": "3.9.13"
  },
  "orig_nbformat": 4
 },
 "nbformat": 4,
 "nbformat_minor": 2
}
