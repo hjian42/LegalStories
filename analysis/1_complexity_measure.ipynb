{
 "cells": [
  {
   "cell_type": "markdown",
   "metadata": {},
   "source": [
    "## Load data"
   ]
  },
  {
   "cell_type": "code",
   "execution_count": 2,
   "metadata": {},
   "outputs": [
    {
     "name": "stdout",
     "output_type": "stream",
     "text": [
      "(20, 7) (20, 7) (20, 7)\n"
     ]
    }
   ],
   "source": [
    "import pandas as pd\n",
    "\n",
    "df_llama2 = pd.read_csv(\"../data/20-doctrines/llama2_story_question_20.tsv\", sep=\"\\t\")\n",
    "df_gpt35 = pd.read_csv(\"../data/20-doctrines/gpt3.5_story_question_20.tsv\", sep=\"\\t\")\n",
    "df_gpt4 = pd.read_csv(\"../data/20-doctrines/gpt4_story_question_20.tsv\", sep=\"\\t\")\n",
    "\n",
    "df_llama2.story = df_llama2.story.apply(lambda x: x.strip())\n",
    "df_gpt35.story = df_gpt35.story.apply(lambda x: x.strip())\n",
    "df_gpt4.story = df_gpt4.story.apply(lambda x: x.strip())\n",
    "\n",
    "df_llama2.intro_text = df_llama2.intro_text.apply(lambda x: x.strip())\n",
    "df_gpt35.intro_text = df_gpt35.intro_text.apply(lambda x: x.strip())\n",
    "df_gpt4.intro_text = df_gpt4.intro_text.apply(lambda x: x.strip())\n",
    "\n",
    "print(df_llama2.shape, df_gpt35.shape, df_gpt4.shape)"
   ]
  },
  {
   "cell_type": "markdown",
   "metadata": {},
   "source": [
    "## Define complexity metrics"
   ]
  },
  {
   "cell_type": "code",
   "execution_count": 3,
   "metadata": {},
   "outputs": [],
   "source": [
    "from readability import Readability\n",
    "import spacy\n",
    "import numpy as np \n",
    "\n",
    "nlp = spacy.load('en_core_web_sm') # Load the English Model\n",
    "\n",
    "def get_average_sentence_length(texts, nlp_model):\n",
    "    # Load the spaCy language model\n",
    "    # nlp = spacy.load(\"en_core_web_sm\")\n",
    "\n",
    "    # Initialize a list to store sentence lengths\n",
    "    sentence_lengths = []\n",
    "\n",
    "    # Process each text in the list\n",
    "    for text in texts:\n",
    "        # Process the text using spaCy\n",
    "        doc = nlp_model(text)\n",
    "\n",
    "        # Calculate the length of each sentence\n",
    "        for sentence in doc.sents:\n",
    "            sentence_lengths.append(len(sentence))\n",
    "\n",
    "    # Calculate the average sentence length\n",
    "    if len(sentence_lengths) > 0:\n",
    "        average_length = sum(sentence_lengths) / len(sentence_lengths)\n",
    "        return average_length\n",
    "    else:\n",
    "        return 0\n",
    "\n",
    "def get_story_length(texts, nlp_model):\n",
    "    # Load the spaCy language model\n",
    "    # nlp = spacy.load(\"en_core_web_sm\")\n",
    "\n",
    "    # Initialize a list to store sentence lengths\n",
    "    story_lengths = []\n",
    "\n",
    "    # Process each text in the list\n",
    "    for text in texts:\n",
    "        # Process the text using spaCy\n",
    "        doc = nlp_model(text)\n",
    "\n",
    "        story_length = 0\n",
    "\n",
    "        # Calculate the length of each story\n",
    "        for sentence in doc.sents:\n",
    "            story_length += len(sentence)\n",
    "\n",
    "        story_lengths.append(story_length)\n",
    "\n",
    "    return np.mean(story_lengths), np.std(story_lengths)"
   ]
  },
  {
   "cell_type": "markdown",
   "metadata": {},
   "source": [
    "## Story Length"
   ]
  },
  {
   "cell_type": "code",
   "execution_count": 4,
   "metadata": {},
   "outputs": [
    {
     "name": "stdout",
     "output_type": "stream",
     "text": [
      "definition\n",
      "152.0 31.0\n",
      "LLaMA 2\n",
      "250.5 89.9\n",
      "GPT-3.5\n",
      "327.2 50.7\n",
      "GPT-4\n",
      "316.8 51.6\n"
     ]
    }
   ],
   "source": [
    "\n",
    "print(\"definition\")\n",
    "mean, std = get_story_length(df_llama2.intro_text.tolist(), nlp)\n",
    "print(round(mean, 1), round(std, 1))\n",
    "\n",
    "print(\"LLaMA 2\")\n",
    "mean, std = get_story_length(df_llama2.story.tolist(), nlp)\n",
    "print(round(mean, 1), round(std, 1))\n",
    "\n",
    "print(\"GPT-3.5\")\n",
    "mean, std = get_story_length(df_gpt35.story.tolist(), nlp)\n",
    "print(round(mean, 1), round(std, 1))\n",
    "\n",
    "print(\"GPT-4\")\n",
    "mean, std = get_story_length(df_gpt4.story.tolist(), nlp)\n",
    "print(round(mean, 1), round(std, 1))"
   ]
  },
  {
   "attachments": {},
   "cell_type": "markdown",
   "metadata": {},
   "source": [
    "## Sentence Length"
   ]
  },
  {
   "cell_type": "code",
   "execution_count": 5,
   "metadata": {},
   "outputs": [
    {
     "name": "stdout",
     "output_type": "stream",
     "text": [
      "definition\n",
      "30.11\n",
      "LLaMA 2\n",
      "23.41\n",
      "GPT-3.5\n",
      "20.26\n",
      "GPT-4\n",
      "19.61\n"
     ]
    }
   ],
   "source": [
    "\n",
    "print(\"definition\")\n",
    "print(round(get_average_sentence_length(df_llama2.intro_text.tolist(), nlp), 2))\n",
    "\n",
    "print(\"LLaMA 2\")\n",
    "print(round(get_average_sentence_length(df_llama2.story.tolist(), nlp), 2))\n",
    "\n",
    "print(\"GPT-3.5\")\n",
    "print(round(get_average_sentence_length(df_gpt35.story.tolist(), nlp), 2))\n",
    "\n",
    "print(\"GPT-4\")\n",
    "print(round(get_average_sentence_length(df_gpt4.story.tolist(), nlp), 2))\n"
   ]
  },
  {
   "attachments": {},
   "cell_type": "markdown",
   "metadata": {},
   "source": [
    "## FK scores"
   ]
  },
  {
   "cell_type": "code",
   "execution_count": 7,
   "metadata": {},
   "outputs": [
    {
     "name": "stdout",
     "output_type": "stream",
     "text": [
      "definition\n",
      "score: 14.790623485741804, grade_level: '15'\n",
      "LLaMA 2\n",
      "score: 11.354370983496992, grade_level: '11'\n",
      "GPT-3.5\n",
      "score: 8.612532191937632, grade_level: '9'\n",
      "GPT-4\n",
      "score: 8.23016379145307, grade_level: '8'\n"
     ]
    }
   ],
   "source": [
    "print(\"definition\")\n",
    "r = Readability(df_llama2.intro_text.str.cat(sep=\" \"))\n",
    "print(r.flesch_kincaid())\n",
    "\n",
    "print(\"LLaMA 2\")\n",
    "r = Readability(df_llama2.story.str.cat(sep=\" \"))\n",
    "print(r.flesch_kincaid())\n",
    "\n",
    "print(\"GPT-3.5\")\n",
    "r = Readability(df_gpt35.story.str.cat(sep=\" \"))\n",
    "print(r.flesch_kincaid())\n",
    "\n",
    "print(\"GPT-4\")\n",
    "r = Readability(df_gpt4.story.str.cat(sep=\" \"))\n",
    "print(r.flesch_kincaid())"
   ]
  },
  {
   "attachments": {},
   "cell_type": "markdown",
   "metadata": {},
   "source": [
    "## Thing Explainer (TE, aka Top1K)"
   ]
  },
  {
   "cell_type": "code",
   "execution_count": 8,
   "metadata": {},
   "outputs": [],
   "source": [
    "import requests\n",
    "\n",
    "response = requests.get('https://splasho.com/upgoer5/phpspellcheck/dictionaries/1000.dicin')\n",
    "top_1000 = response.text.split('\\n')[:-1] # last one is TRUE?\n"
   ]
  },
  {
   "cell_type": "code",
   "execution_count": 17,
   "metadata": {},
   "outputs": [
    {
     "name": "stdout",
     "output_type": "stream",
     "text": [
      "definition\n",
      "0.51\n",
      "LLaMA 2\n",
      "0.61\n",
      "GPT-3.5\n",
      "0.64\n",
      "GPT-4\n",
      "0.63\n"
     ]
    }
   ],
   "source": [
    "def get_thing_explainer_oov(r, top_1000):\n",
    "    # lemmatize\n",
    "    lemmas = [t.lemma_ for t in r]\n",
    "    \n",
    "    # get occurances tokens out of top 1000\n",
    "    return sum(x not in set(top_1000) for x in lemmas)/len(lemmas)\n",
    "\n",
    "\n",
    "def get_te_scores(df_, nlp_model):\n",
    "    df_['sent_tokens'] = [nlp_model(s) for s in df_.intro_text]\n",
    "    df_['def_te_oov'] = [get_thing_explainer_oov(r, top_1000) for r in df_['sent_tokens']]\n",
    "\n",
    "    df_['sent_tokens2'] = [nlp_model(s) for s in df_.story]\n",
    "    df_['story_te_oov'] = [get_thing_explainer_oov(r, top_1000) for r in df_['sent_tokens2']]\n",
    "\n",
    "    return df_\n",
    "\n",
    "df_llama2 = get_te_scores(df_llama2, nlp)\n",
    "df_gpt35 = get_te_scores(df_gpt35, nlp)\n",
    "df_gpt4 = get_te_scores(df_gpt4, nlp)\n",
    "\n",
    "\n",
    "print(\"definition\")\n",
    "print(1-round(df_llama2.def_te_oov.mean(), 2))\n",
    "\n",
    "print(\"LLaMA 2\")\n",
    "print(1-round(df_llama2.story_te_oov.mean(), 2))\n",
    "\n",
    "print(\"GPT-3.5\")\n",
    "print(1-round(df_gpt35.story_te_oov.mean(), 2))\n",
    "\n",
    "print(\"GPT-4\")\n",
    "print(1-round(df_gpt4.story_te_oov.mean(), 2))\n"
   ]
  },
  {
   "attachments": {},
   "cell_type": "markdown",
   "metadata": {},
   "source": [
    "## function words"
   ]
  },
  {
   "cell_type": "code",
   "execution_count": 10,
   "metadata": {},
   "outputs": [
    {
     "name": "stdout",
     "output_type": "stream",
     "text": [
      "definition\n",
      "0.37\n",
      "LLaMA 2\n",
      "0.4\n",
      "GPT-3.5\n",
      "0.42\n",
      "GPT-4\n",
      "0.41\n"
     ]
    }
   ],
   "source": [
    "from collections import Counter\n",
    "\n",
    "funct_pos_tags = ['DET', 'ADP', 'PRON', 'CONJ', 'SCONJ', 'AUX', 'PART', 'INTJ']\n",
    "\n",
    "def get_num_function_words(text, funct_pos_tags):\n",
    "    counts = Counter([t.pos_ for t in text])\n",
    "    return sum([counts[k] for k in funct_pos_tags])\n",
    "\n",
    "\n",
    "def get_function_scores(df_, nlp_model, column_name=None):\n",
    "    df_['sent_tokens'] = [nlp_model(s) for s in df_[column_name]]\n",
    "    df_['word_count'] = [len(s) for s in df_['sent_tokens']]\n",
    "    df_['function_words'] = [get_num_function_words(t, funct_pos_tags) for t in df_['sent_tokens']]\n",
    "    df_['function_words_prop'] = df_['function_words']/df_['word_count']\n",
    "\n",
    "    return df_\n",
    "\n",
    "print(\"definition\")\n",
    "df_llama2 = get_function_scores(df_llama2, nlp, column_name=\"intro_text\")\n",
    "print(round(df_llama2.function_words_prop.mean(), 2))\n",
    "\n",
    "print(\"LLaMA 2\")\n",
    "df_llama2 = get_function_scores(df_llama2, nlp, column_name=\"story\")\n",
    "print(round(df_llama2.function_words_prop.mean(), 2))\n",
    "\n",
    "print(\"GPT-3.5\")\n",
    "df_gpt35 = get_function_scores(df_gpt35, nlp, column_name=\"story\")\n",
    "print(round(df_gpt35.function_words_prop.mean(), 2))\n",
    "\n",
    "print(\"GPT-4\")\n",
    "df_gpt4 = get_function_scores(df_gpt4, nlp, column_name=\"story\")\n",
    "print(round(df_gpt4.function_words_prop.mean(), 2))\n"
   ]
  },
  {
   "attachments": {},
   "cell_type": "markdown",
   "metadata": {},
   "source": [
    "## GPT-2 PPL"
   ]
  },
  {
   "cell_type": "code",
   "execution_count": 11,
   "metadata": {},
   "outputs": [
    {
     "name": "stderr",
     "output_type": "stream",
     "text": [
      "/Users/hjian42/opt/anaconda3/envs/lm/lib/python3.9/site-packages/tqdm/auto.py:22: TqdmWarning: IProgress not found. Please update jupyter and ipywidgets. See https://ipywidgets.readthedocs.io/en/stable/user_install.html\n",
      "  from .autonotebook import tqdm as notebook_tqdm\n",
      "tokenizer_config.json: 100%|██████████| 25.0/25.0 [00:00<00:00, 1.60kB/s]\n",
      "ftfy or spacy is not installed using BERT BasicTokenizer instead of SpaCy & ftfy.\n"
     ]
    }
   ],
   "source": [
    "from transformers import OpenAIGPTTokenizer, OpenAIGPTLMHeadModel\n",
    "import math\n",
    "import torch\n",
    "\n",
    "tokenizer = OpenAIGPTTokenizer.from_pretrained('openai-gpt')\n",
    "model = OpenAIGPTLMHeadModel.from_pretrained('openai-gpt')\n",
    "_ = model.eval()\n",
    "\n",
    "# from: https://github.com/huggingface/transformers/issues/473\n",
    "def score(sentence, tokenizer, model):\n",
    "    # tokenize_input = tokenizer.tokenize(sentence, truncate)\n",
    "    # tensor_input = torch.tensor([tokenizer.convert_tokens_to_ids(tokenize_input)])\n",
    "    tensor_input = torch.tensor([tokenizer(sentence, truncation=True)['input_ids']])\n",
    "\n",
    "    outputs=model(tensor_input, labels=tensor_input)\n",
    "    return math.exp(outputs[0])"
   ]
  },
  {
   "cell_type": "code",
   "execution_count": 12,
   "metadata": {},
   "outputs": [
    {
     "name": "stdout",
     "output_type": "stream",
     "text": [
      "definition\n",
      "65.82\n",
      "LLaMA 2\n",
      "30.51\n",
      "GPT-3.5\n",
      "25.2\n",
      "GPT-4\n",
      "24.96\n"
     ]
    }
   ],
   "source": [
    "def get_gpt_ppl_scores(df_, column_name=None):\n",
    "    df_['gpt_ppl_score'] = [score(s, tokenizer, model) for s in df_[column_name]]\n",
    "    return df_\n",
    "\n",
    "print(\"definition\")\n",
    "df_llama2 = get_gpt_ppl_scores(df_llama2, column_name=\"intro_text\")\n",
    "print(round(df_llama2.gpt_ppl_score.mean(), 2))\n",
    "\n",
    "print(\"LLaMA 2\")\n",
    "df_llama2 = get_gpt_ppl_scores(df_llama2, column_name=\"story\")\n",
    "print(round(df_llama2.gpt_ppl_score.mean(), 2))\n",
    "\n",
    "print(\"GPT-3.5\")\n",
    "df_gpt35 = get_gpt_ppl_scores(df_gpt35, column_name=\"story\")\n",
    "print(round(df_gpt35.gpt_ppl_score.mean(), 2))\n",
    "\n",
    "print(\"GPT-4\")\n",
    "df_gpt4 = get_gpt_ppl_scores(df_gpt4, column_name=\"story\")\n",
    "print(round(df_gpt4.gpt_ppl_score.mean(), 2))"
   ]
  },
  {
   "attachments": {},
   "cell_type": "markdown",
   "metadata": {},
   "source": [
    "## LVL (Legal Vocab List)"
   ]
  },
  {
   "cell_type": "code",
   "execution_count": 16,
   "metadata": {},
   "outputs": [
    {
     "name": "stdout",
     "output_type": "stream",
     "text": [
      "definition\n",
      "0.27\n",
      "LLaMA 2\n",
      "0.26\n",
      "GPT-3.5\n",
      "0.22\n",
      "GPT-4\n",
      "0.21\n"
     ]
    }
   ],
   "source": [
    "import json\n",
    "\n",
    "with open(\"./resources/legalterms.txt\") as f:\n",
    "    uscourt_words = [w.lower().strip() for w in f.readlines()]\n",
    "\n",
    "with open(\"./resources/avl.json\") as f:\n",
    "    jsonobj = json.load(f)\n",
    "    avl_words = []\n",
    "    for each in jsonobj:\n",
    "        avl_words.extend(jsonobj[each].keys())\n",
    "    avl_words = list(avl_words)\n",
    "\n",
    "with open(\"./resources/raw.githubusercontent.com_digitallawyer_openlegaldictionary_master__data_bld.json\") as f:\n",
    "    jsonobj = json.load(f)\n",
    "    legalese_words = []\n",
    "    for each in jsonobj:\n",
    "        legalese_words.append(each['title'].lower())\n",
    "    legalese_words = list(legalese_words)\n",
    "\n",
    "\n",
    "LAVL_set = set([t.strip('\\n') for t in uscourt_words+legalese_words])\n",
    "\n",
    "def get_lavl_occ(text, AVL_core_lemmas_set=LAVL_set):\n",
    "    lemmas = [t.lemma_ for t in text]\n",
    "    return sum(x in AVL_core_lemmas_set for x in lemmas)/len(lemmas)\n",
    "\n",
    "def get_lavl_score(df_, column_name=None, nlp_model=None):\n",
    "    df_['sent_tokens'] = [nlp_model(s) for s in df_[column_name]]\n",
    "    df_['lavl_score'] = [get_lavl_occ(t) for t in df_['sent_tokens']]\n",
    "    return df_\n",
    "\n",
    "\n",
    "nlp = spacy.load('en_core_web_sm') # Load the English Model\n",
    "\n",
    "print(\"definition\")\n",
    "df_llama2 = get_lavl_score(df_llama2, column_name=\"intro_text\", nlp_model=nlp)\n",
    "print(round(df_llama2.lavl_score.mean(), 2))\n",
    "\n",
    "print(\"LLaMA 2\")\n",
    "df_llama2 = get_lavl_score(df_llama2, column_name=\"story\", nlp_model=nlp)\n",
    "print(round(df_llama2.lavl_score.mean(), 2))\n",
    "\n",
    "print(\"GPT-3.5\")\n",
    "df_gpt35 = get_lavl_score(df_gpt35, column_name=\"story\", nlp_model=nlp)\n",
    "print(round(df_gpt35.lavl_score.mean(), 2))\n",
    "\n",
    "print(\"GPT-4\")\n",
    "df_gpt4 = get_lavl_score(df_gpt4, column_name=\"story\", nlp_model=nlp)\n",
    "print(round(df_gpt4.lavl_score.mean(), 2))"
   ]
  }
 ],
 "metadata": {
  "kernelspec": {
   "display_name": "audiencenlp",
   "language": "python",
   "name": "python3"
  },
  "language_info": {
   "codemirror_mode": {
    "name": "ipython",
    "version": 3
   },
   "file_extension": ".py",
   "mimetype": "text/x-python",
   "name": "python",
   "nbconvert_exporter": "python",
   "pygments_lexer": "ipython3",
   "version": "3.9.15"
  },
  "orig_nbformat": 4
 },
 "nbformat": 4,
 "nbformat_minor": 2
}
